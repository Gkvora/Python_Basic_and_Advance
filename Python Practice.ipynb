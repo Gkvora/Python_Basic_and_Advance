{
 "cells": [
  {
   "cell_type": "code",
   "execution_count": 74,
   "id": "1ccb0dd6",
   "metadata": {},
   "outputs": [
    {
     "data": {
      "text/plain": [
       "list"
      ]
     },
     "execution_count": 74,
     "metadata": {},
     "output_type": "execute_result"
    }
   ],
   "source": [
    "# list\n",
    "A=[2,3,6,1,8,5,\"Hello\",9.90]\n",
    "type(A)"
   ]
  },
  {
   "cell_type": "code",
   "execution_count": 6,
   "id": "86823dff",
   "metadata": {},
   "outputs": [
    {
     "data": {
      "text/plain": [
       "[9, 5, 4, 3, 2, 1]"
      ]
     },
     "execution_count": 6,
     "metadata": {},
     "output_type": "execute_result"
    }
   ],
   "source": [
    "b=[3,9,2,5,4,1]\n",
    "b.sort()\n",
    "b.reverse()\n",
    "b\n"
   ]
  },
  {
   "cell_type": "code",
   "execution_count": 7,
   "id": "7f6cd512",
   "metadata": {},
   "outputs": [
    {
     "data": {
      "text/plain": [
       "[1, 2, 3, 5, 6, 8, 'Hello', 9.9]"
      ]
     },
     "execution_count": 7,
     "metadata": {},
     "output_type": "execute_result"
    }
   ],
   "source": [
    "A"
   ]
  },
  {
   "cell_type": "code",
   "execution_count": 8,
   "id": "2f0b635d",
   "metadata": {},
   "outputs": [
    {
     "data": {
      "text/plain": [
       "[1, 2, 3]"
      ]
     },
     "execution_count": 8,
     "metadata": {},
     "output_type": "execute_result"
    }
   ],
   "source": [
    "A[0:3]"
   ]
  },
  {
   "cell_type": "code",
   "execution_count": 9,
   "id": "37565d22",
   "metadata": {},
   "outputs": [
    {
     "data": {
      "text/plain": [
       "[2, 3]"
      ]
     },
     "execution_count": 9,
     "metadata": {},
     "output_type": "execute_result"
    }
   ],
   "source": [
    "A[1:3]"
   ]
  },
  {
   "cell_type": "code",
   "execution_count": 10,
   "id": "fb804917",
   "metadata": {},
   "outputs": [
    {
     "data": {
      "text/plain": [
       "['Hello', 9.9]"
      ]
     },
     "execution_count": 10,
     "metadata": {},
     "output_type": "execute_result"
    }
   ],
   "source": [
    "A[6:8]"
   ]
  },
  {
   "cell_type": "code",
   "execution_count": 13,
   "id": "4db66d5d",
   "metadata": {},
   "outputs": [
    {
     "data": {
      "text/plain": [
       "9"
      ]
     },
     "execution_count": 13,
     "metadata": {},
     "output_type": "execute_result"
    }
   ],
   "source": [
    "max(b)"
   ]
  },
  {
   "cell_type": "code",
   "execution_count": 14,
   "id": "b716f38f",
   "metadata": {},
   "outputs": [
    {
     "data": {
      "text/plain": [
       "1"
      ]
     },
     "execution_count": 14,
     "metadata": {},
     "output_type": "execute_result"
    }
   ],
   "source": [
    "min(b)"
   ]
  },
  {
   "cell_type": "code",
   "execution_count": 15,
   "id": "d4b81be9",
   "metadata": {},
   "outputs": [
    {
     "data": {
      "text/plain": [
       "[1, 2, 3, 5, 6, 8, 'Hello', 9.9]"
      ]
     },
     "execution_count": 15,
     "metadata": {},
     "output_type": "execute_result"
    }
   ],
   "source": [
    "A"
   ]
  },
  {
   "cell_type": "code",
   "execution_count": 27,
   "id": "dcfac120",
   "metadata": {},
   "outputs": [],
   "source": [
    "A.append(\"Heeee\")\n"
   ]
  },
  {
   "cell_type": "code",
   "execution_count": 28,
   "id": "555dd0ec",
   "metadata": {},
   "outputs": [
    {
     "data": {
      "text/plain": [
       "[1, 'Gk', 2, 3, 5, 6, 8, 'Hello', 9.9, 'Heeee']"
      ]
     },
     "execution_count": 28,
     "metadata": {},
     "output_type": "execute_result"
    }
   ],
   "source": [
    "A"
   ]
  },
  {
   "cell_type": "code",
   "execution_count": 29,
   "id": "a375ffd6",
   "metadata": {},
   "outputs": [],
   "source": [
    "A.insert(1,\"Gk\")"
   ]
  },
  {
   "cell_type": "code",
   "execution_count": 30,
   "id": "409962c5",
   "metadata": {},
   "outputs": [
    {
     "data": {
      "text/plain": [
       "'Heeee'"
      ]
     },
     "execution_count": 30,
     "metadata": {},
     "output_type": "execute_result"
    }
   ],
   "source": [
    "A[-1]"
   ]
  },
  {
   "cell_type": "code",
   "execution_count": 31,
   "id": "8441a74d",
   "metadata": {},
   "outputs": [
    {
     "data": {
      "text/plain": [
       "[1, 'Gk', 'Gk', 2, 3, 5, 6, 8, 'Hello', 9.9]"
      ]
     },
     "execution_count": 31,
     "metadata": {},
     "output_type": "execute_result"
    }
   ],
   "source": [
    "A.remove(\"Heeee\")\n",
    "A"
   ]
  },
  {
   "cell_type": "code",
   "execution_count": 32,
   "id": "e71dd6b7",
   "metadata": {},
   "outputs": [
    {
     "data": {
      "text/plain": [
       "[1, 'Gk', 'Gk', 2, 3, 5, 6, 8, 'Hello', 9.9]"
      ]
     },
     "execution_count": 32,
     "metadata": {},
     "output_type": "execute_result"
    }
   ],
   "source": [
    "A"
   ]
  },
  {
   "cell_type": "code",
   "execution_count": 33,
   "id": "6bac9410",
   "metadata": {},
   "outputs": [],
   "source": [
    "del A[1]"
   ]
  },
  {
   "cell_type": "code",
   "execution_count": 34,
   "id": "4b7a31ca",
   "metadata": {},
   "outputs": [
    {
     "data": {
      "text/plain": [
       "[1, 'Gk', 2, 3, 5, 6, 8, 'Hello', 9.9]"
      ]
     },
     "execution_count": 34,
     "metadata": {},
     "output_type": "execute_result"
    }
   ],
   "source": [
    "A"
   ]
  },
  {
   "cell_type": "code",
   "execution_count": 35,
   "id": "8349e592",
   "metadata": {},
   "outputs": [
    {
     "data": {
      "text/plain": [
       "9.9"
      ]
     },
     "execution_count": 35,
     "metadata": {},
     "output_type": "execute_result"
    }
   ],
   "source": [
    "A.pop()"
   ]
  },
  {
   "cell_type": "code",
   "execution_count": 36,
   "id": "1728396a",
   "metadata": {},
   "outputs": [
    {
     "data": {
      "text/plain": [
       "[1, 'Gk', 2, 3, 5, 6, 8, 'Hello']"
      ]
     },
     "execution_count": 36,
     "metadata": {},
     "output_type": "execute_result"
    }
   ],
   "source": [
    "A"
   ]
  },
  {
   "cell_type": "code",
   "execution_count": 37,
   "id": "58cffb51",
   "metadata": {},
   "outputs": [
    {
     "data": {
      "text/plain": [
       "[1, 'Vora', 2, 3, 5, 6, 8, 'Hello']"
      ]
     },
     "execution_count": 37,
     "metadata": {},
     "output_type": "execute_result"
    }
   ],
   "source": [
    "A[1]=\"Vora\"\n",
    "A"
   ]
  },
  {
   "cell_type": "code",
   "execution_count": 38,
   "id": "a7b0db55",
   "metadata": {},
   "outputs": [
    {
     "data": {
      "text/plain": [
       "8"
      ]
     },
     "execution_count": 38,
     "metadata": {},
     "output_type": "execute_result"
    }
   ],
   "source": [
    "len(A)"
   ]
  },
  {
   "cell_type": "code",
   "execution_count": 75,
   "id": "0cfad3d1",
   "metadata": {},
   "outputs": [
    {
     "data": {
      "text/plain": [
       "tuple"
      ]
     },
     "execution_count": 75,
     "metadata": {},
     "output_type": "execute_result"
    }
   ],
   "source": [
    "# Tuple\n",
    "tp=(1,2,3,4)\n",
    "type(tp)"
   ]
  },
  {
   "cell_type": "code",
   "execution_count": 40,
   "id": "915b1003",
   "metadata": {},
   "outputs": [
    {
     "data": {
      "text/plain": [
       "int"
      ]
     },
     "execution_count": 40,
     "metadata": {},
     "output_type": "execute_result"
    }
   ],
   "source": [
    "tp1=(1)\n",
    "type(tp1)"
   ]
  },
  {
   "cell_type": "code",
   "execution_count": 41,
   "id": "274e271a",
   "metadata": {},
   "outputs": [
    {
     "data": {
      "text/plain": [
       "tuple"
      ]
     },
     "execution_count": 41,
     "metadata": {},
     "output_type": "execute_result"
    }
   ],
   "source": [
    "tp2=(1,)\n",
    "type(tp2)"
   ]
  },
  {
   "cell_type": "code",
   "execution_count": 76,
   "id": "93fc349d",
   "metadata": {},
   "outputs": [
    {
     "data": {
      "text/plain": [
       "dict"
      ]
     },
     "execution_count": 76,
     "metadata": {},
     "output_type": "execute_result"
    }
   ],
   "source": [
    "# Dictionary\n",
    "dict1={}\n",
    "type(dict1)"
   ]
  },
  {
   "cell_type": "code",
   "execution_count": 43,
   "id": "ced03bb0",
   "metadata": {},
   "outputs": [
    {
     "name": "stdout",
     "output_type": "stream",
     "text": [
      "<class 'set'>\n"
     ]
    }
   ],
   "source": [
    "A={1,2,3,4,5}\n",
    "print(type(A))"
   ]
  },
  {
   "cell_type": "code",
   "execution_count": 44,
   "id": "1e92e282",
   "metadata": {},
   "outputs": [
    {
     "data": {
      "text/plain": [
       "set"
      ]
     },
     "execution_count": 44,
     "metadata": {},
     "output_type": "execute_result"
    }
   ],
   "source": [
    "type(A)"
   ]
  },
  {
   "cell_type": "code",
   "execution_count": 45,
   "id": "579aa0c1",
   "metadata": {},
   "outputs": [
    {
     "name": "stdout",
     "output_type": "stream",
     "text": [
      "<class 'dict'>\n"
     ]
    }
   ],
   "source": [
    "A={}\n",
    "print(type(A))"
   ]
  },
  {
   "cell_type": "code",
   "execution_count": 48,
   "id": "5d5f81c3",
   "metadata": {},
   "outputs": [
    {
     "data": {
      "text/plain": [
       "1"
      ]
     },
     "execution_count": 48,
     "metadata": {},
     "output_type": "execute_result"
    }
   ],
   "source": [
    "d1={\"A1\":1,\"B1\":2,\"c\":\"Hekk\"}\n",
    "d1[\"A1\"]"
   ]
  },
  {
   "cell_type": "code",
   "execution_count": 49,
   "id": "efa284ac",
   "metadata": {},
   "outputs": [
    {
     "name": "stdout",
     "output_type": "stream",
     "text": [
      "Hekk\n"
     ]
    }
   ],
   "source": [
    "print(d1[\"c\"])"
   ]
  },
  {
   "cell_type": "code",
   "execution_count": 50,
   "id": "a000b090",
   "metadata": {},
   "outputs": [
    {
     "ename": "KeyError",
     "evalue": "1",
     "output_type": "error",
     "traceback": [
      "\u001b[1;31m---------------------------------------------------------------------------\u001b[0m",
      "\u001b[1;31mKeyError\u001b[0m                                  Traceback (most recent call last)",
      "\u001b[1;32m~\\AppData\\Local\\Temp\\ipykernel_4872\\2253637714.py\u001b[0m in \u001b[0;36m<module>\u001b[1;34m\u001b[0m\n\u001b[1;32m----> 1\u001b[1;33m \u001b[0mprint\u001b[0m\u001b[1;33m(\u001b[0m\u001b[0md1\u001b[0m\u001b[1;33m[\u001b[0m\u001b[1;36m1\u001b[0m\u001b[1;33m]\u001b[0m\u001b[1;33m)\u001b[0m\u001b[1;33m\u001b[0m\u001b[1;33m\u001b[0m\u001b[0m\n\u001b[0m",
      "\u001b[1;31mKeyError\u001b[0m: 1"
     ]
    }
   ],
   "source": [
    "print(d1[1])"
   ]
  },
  {
   "cell_type": "code",
   "execution_count": 55,
   "id": "47abb846",
   "metadata": {},
   "outputs": [
    {
     "data": {
      "text/plain": [
       "{'rohan': {'r1': 1, 'r2': 2},\n",
       " 'kishan': 990,\n",
       " 'tina': {'t1': 11, 't2': {'tt1': 111, 'tt2': 222}, 't3': 33}}"
      ]
     },
     "execution_count": 55,
     "metadata": {},
     "output_type": "execute_result"
    }
   ],
   "source": [
    "d2={\"rohan\":{\"r1\":1,\"r2\":2},\"kishan\":990,\"tina\":{\"t1\":11,\"t2\":{\"tt1\":111,\"tt2\":222},\"t3\":33}}\n",
    "d2"
   ]
  },
  {
   "cell_type": "code",
   "execution_count": 56,
   "id": "7fc97b8a",
   "metadata": {},
   "outputs": [
    {
     "name": "stdout",
     "output_type": "stream",
     "text": [
      "{'rohan': {'r1': 1, 'r2': 2}, 'kishan': 990, 'tina': {'t1': 11, 't2': {'tt1': 111, 'tt2': 222}, 't3': 33}}\n"
     ]
    }
   ],
   "source": [
    "print(d2)"
   ]
  },
  {
   "cell_type": "code",
   "execution_count": 57,
   "id": "e66376a0",
   "metadata": {},
   "outputs": [
    {
     "name": "stdout",
     "output_type": "stream",
     "text": [
      "<class 'dict'>\n"
     ]
    }
   ],
   "source": [
    "print(type(d2))"
   ]
  },
  {
   "cell_type": "code",
   "execution_count": 58,
   "id": "664b4cdd",
   "metadata": {},
   "outputs": [
    {
     "name": "stdout",
     "output_type": "stream",
     "text": [
      "{'r1': 1, 'r2': 2}\n"
     ]
    }
   ],
   "source": [
    "print(d2[\"rohan\"])"
   ]
  },
  {
   "cell_type": "code",
   "execution_count": 59,
   "id": "b5dd67de",
   "metadata": {},
   "outputs": [
    {
     "name": "stdout",
     "output_type": "stream",
     "text": [
      "2\n"
     ]
    }
   ],
   "source": [
    "print(d2[\"rohan\"][\"r2\"])"
   ]
  },
  {
   "cell_type": "code",
   "execution_count": 60,
   "id": "1f9b5b2f",
   "metadata": {},
   "outputs": [
    {
     "name": "stdout",
     "output_type": "stream",
     "text": [
      "990\n"
     ]
    }
   ],
   "source": [
    "print(d2[\"kishan\"])"
   ]
  },
  {
   "cell_type": "code",
   "execution_count": 61,
   "id": "c5c3a227",
   "metadata": {},
   "outputs": [
    {
     "name": "stdout",
     "output_type": "stream",
     "text": [
      "222\n"
     ]
    }
   ],
   "source": [
    "print(d2[\"tina\"][\"t2\"][\"tt2\"])"
   ]
  },
  {
   "cell_type": "code",
   "execution_count": 63,
   "id": "0f20d401",
   "metadata": {},
   "outputs": [
    {
     "ename": "KeyError",
     "evalue": "0",
     "output_type": "error",
     "traceback": [
      "\u001b[1;31m---------------------------------------------------------------------------\u001b[0m",
      "\u001b[1;31mKeyError\u001b[0m                                  Traceback (most recent call last)",
      "\u001b[1;32m~\\AppData\\Local\\Temp\\ipykernel_4872\\2110245992.py\u001b[0m in \u001b[0;36m<module>\u001b[1;34m\u001b[0m\n\u001b[1;32m----> 1\u001b[1;33m \u001b[0md2\u001b[0m\u001b[1;33m[\u001b[0m\u001b[1;36m0\u001b[0m\u001b[1;33m]\u001b[0m\u001b[1;33m\u001b[0m\u001b[1;33m\u001b[0m\u001b[0m\n\u001b[0m",
      "\u001b[1;31mKeyError\u001b[0m: 0"
     ]
    }
   ],
   "source": [
    "d2[0]"
   ]
  },
  {
   "cell_type": "code",
   "execution_count": 64,
   "id": "37390ddf",
   "metadata": {},
   "outputs": [
    {
     "data": {
      "text/plain": [
       "{'rohan': {'r1': 1, 'r2': 2},\n",
       " 'kishan': 990,\n",
       " 'tina': {'t1': 11, 't2': {'tt1': 111, 'tt2': 222}, 't3': 33}}"
      ]
     },
     "execution_count": 64,
     "metadata": {},
     "output_type": "execute_result"
    }
   ],
   "source": [
    "d2"
   ]
  },
  {
   "cell_type": "code",
   "execution_count": 65,
   "id": "a6369de8",
   "metadata": {},
   "outputs": [],
   "source": [
    "d2[\"Ram\"]=123123"
   ]
  },
  {
   "cell_type": "code",
   "execution_count": 66,
   "id": "7066b898",
   "metadata": {},
   "outputs": [
    {
     "data": {
      "text/plain": [
       "{'rohan': {'r1': 1, 'r2': 2},\n",
       " 'kishan': 990,\n",
       " 'tina': {'t1': 11, 't2': {'tt1': 111, 'tt2': 222}, 't3': 33},\n",
       " 'Ram': 123123}"
      ]
     },
     "execution_count": 66,
     "metadata": {},
     "output_type": "execute_result"
    }
   ],
   "source": [
    "d2"
   ]
  },
  {
   "cell_type": "code",
   "execution_count": 69,
   "id": "61b3de85",
   "metadata": {},
   "outputs": [
    {
     "data": {
      "text/plain": [
       "dict_keys(['rohan', 'kishan', 'tina', 'Ram'])"
      ]
     },
     "execution_count": 69,
     "metadata": {},
     "output_type": "execute_result"
    }
   ],
   "source": [
    "d2.keys()"
   ]
  },
  {
   "cell_type": "code",
   "execution_count": 71,
   "id": "dd718bd7",
   "metadata": {},
   "outputs": [
    {
     "data": {
      "text/plain": [
       "dict_values([{'r1': 1, 'r2': 2}, 990, {'t1': 11, 't2': {'tt1': 111, 'tt2': 222}, 't3': 33}, 123123])"
      ]
     },
     "execution_count": 71,
     "metadata": {},
     "output_type": "execute_result"
    }
   ],
   "source": [
    "d2.values()"
   ]
  },
  {
   "cell_type": "code",
   "execution_count": 72,
   "id": "6c958fa5",
   "metadata": {},
   "outputs": [
    {
     "data": {
      "text/plain": [
       "<function dict.items>"
      ]
     },
     "execution_count": 72,
     "metadata": {},
     "output_type": "execute_result"
    }
   ],
   "source": [
    "d2.items"
   ]
  },
  {
   "cell_type": "code",
   "execution_count": 73,
   "id": "5ff66c8b",
   "metadata": {},
   "outputs": [
    {
     "data": {
      "text/plain": [
       "dict_items([('rohan', {'r1': 1, 'r2': 2}), ('kishan', 990), ('tina', {'t1': 11, 't2': {'tt1': 111, 'tt2': 222}, 't3': 33}), ('Ram', 123123)])"
      ]
     },
     "execution_count": 73,
     "metadata": {},
     "output_type": "execute_result"
    }
   ],
   "source": [
    "d2.items()"
   ]
  },
  {
   "cell_type": "code",
   "execution_count": 77,
   "id": "7999c664",
   "metadata": {},
   "outputs": [
    {
     "data": {
      "text/plain": [
       "{'rohan': {'r1': 1, 'r2': 2},\n",
       " 'kishan': 990,\n",
       " 'tina': {'t1': 11, 't2': {'tt1': 111, 'tt2': 222}, 't3': 33},\n",
       " 'Ram': 123123,\n",
       " 'R': {'tm': 2121, 'mi': 3232}}"
      ]
     },
     "execution_count": 77,
     "metadata": {},
     "output_type": "execute_result"
    }
   ],
   "source": [
    "d2[\"R\"]={\"tm\":2121,\"mi\":3232}\n",
    "d2"
   ]
  },
  {
   "cell_type": "code",
   "execution_count": 78,
   "id": "a0d1dfb0",
   "metadata": {},
   "outputs": [],
   "source": [
    "# Set"
   ]
  },
  {
   "cell_type": "code",
   "execution_count": 79,
   "id": "2818b4a5",
   "metadata": {},
   "outputs": [
    {
     "name": "stdout",
     "output_type": "stream",
     "text": [
      "<class 'set'>\n"
     ]
    }
   ],
   "source": [
    "A=set()\n",
    "print(type(A))"
   ]
  },
  {
   "cell_type": "code",
   "execution_count": 82,
   "id": "3936e474",
   "metadata": {},
   "outputs": [
    {
     "name": "stdout",
     "output_type": "stream",
     "text": [
      "{1, 2, 3, 4, 5, 6, 7, 8, 23, 56}\n"
     ]
    }
   ],
   "source": [
    "A={2,3,4,5,1,23,4,4,6,7,3,4,56,6,8}\n",
    "print(A)"
   ]
  },
  {
   "cell_type": "code",
   "execution_count": 83,
   "id": "be93b6e6",
   "metadata": {},
   "outputs": [],
   "source": [
    "# here not Repeated value bcoz this is set"
   ]
  },
  {
   "cell_type": "code",
   "execution_count": 84,
   "id": "4d257262",
   "metadata": {},
   "outputs": [
    {
     "data": {
      "text/plain": [
       "{1, 2, 23, 3, 4, 5, 56, 6, 7, 8, 'jjj'}"
      ]
     },
     "execution_count": 84,
     "metadata": {},
     "output_type": "execute_result"
    }
   ],
   "source": [
    "A.add(\"jjj\")\n",
    "A"
   ]
  },
  {
   "cell_type": "code",
   "execution_count": 85,
   "id": "f232b809",
   "metadata": {},
   "outputs": [
    {
     "name": "stdout",
     "output_type": "stream",
     "text": [
      "{1, 2, 3, 4, 5, 6, 7, 8, 9, 10, 11}\n"
     ]
    }
   ],
   "source": [
    "A={1,3,5,7,9,11}\n",
    "B={2,4,6,8,10}\n",
    "print(A.union(B))"
   ]
  },
  {
   "cell_type": "code",
   "execution_count": 88,
   "id": "8fc5ca87",
   "metadata": {},
   "outputs": [
    {
     "name": "stdout",
     "output_type": "stream",
     "text": [
      "{88}\n"
     ]
    }
   ],
   "source": [
    "A={1,3,5,7,9,11,88}\n",
    "B={2,88,4,6,8,10}\n",
    "print(A.intersection(B))"
   ]
  },
  {
   "cell_type": "code",
   "execution_count": 89,
   "id": "8cfe07e1",
   "metadata": {},
   "outputs": [
    {
     "name": "stdout",
     "output_type": "stream",
     "text": [
      "False\n"
     ]
    }
   ],
   "source": [
    "print(A.isdisjoint(B))"
   ]
  },
  {
   "cell_type": "code",
   "execution_count": 90,
   "id": "787302ea",
   "metadata": {},
   "outputs": [
    {
     "name": "stdout",
     "output_type": "stream",
     "text": [
      "True\n"
     ]
    }
   ],
   "source": [
    "A={1,3,5,7,9,11}\n",
    "B={2,4,6,8,10}\n",
    "print(A.isdisjoint(B))"
   ]
  },
  {
   "cell_type": "code",
   "execution_count": 91,
   "id": "e4c9603d",
   "metadata": {},
   "outputs": [
    {
     "data": {
      "text/plain": [
       "{1, 2, 3, 4, 5, 6, 7, 8, 9, 10, 11, 12}"
      ]
     },
     "execution_count": 91,
     "metadata": {},
     "output_type": "execute_result"
    }
   ],
   "source": [
    "a={1,3,5}\n",
    "b={2,4,6}\n",
    "c={7,9,11}\n",
    "d={8,10,12}\n",
    "a.union(b,c,d)"
   ]
  },
  {
   "cell_type": "code",
   "execution_count": 92,
   "id": "a6b39c45",
   "metadata": {},
   "outputs": [
    {
     "data": {
      "text/plain": [
       "set()"
      ]
     },
     "execution_count": 92,
     "metadata": {},
     "output_type": "execute_result"
    }
   ],
   "source": [
    "a.intersection(b,c,d)"
   ]
  },
  {
   "cell_type": "code",
   "execution_count": 93,
   "id": "bd13e2aa",
   "metadata": {},
   "outputs": [],
   "source": [
    "a.update(b,c,d)"
   ]
  },
  {
   "cell_type": "code",
   "execution_count": 95,
   "id": "f8035bb4",
   "metadata": {},
   "outputs": [
    {
     "data": {
      "text/plain": [
       "{1, 2, 3, 4, 5, 6, 7, 8, 9, 10, 11, 12}"
      ]
     },
     "execution_count": 95,
     "metadata": {},
     "output_type": "execute_result"
    }
   ],
   "source": [
    "a"
   ]
  },
  {
   "cell_type": "code",
   "execution_count": 97,
   "id": "38cb3342",
   "metadata": {},
   "outputs": [
    {
     "data": {
      "text/plain": [
       "{2, 4, 6, 8, 10, 12}"
      ]
     },
     "execution_count": 97,
     "metadata": {},
     "output_type": "execute_result"
    }
   ],
   "source": [
    "b.update(d)\n",
    "b"
   ]
  },
  {
   "cell_type": "code",
   "execution_count": 98,
   "id": "b2dc5f1c",
   "metadata": {},
   "outputs": [
    {
     "data": {
      "text/plain": [
       "({1, 2, 3, 4, 5, 6, 7, 8, 9, 10, 11, 12},\n",
       " {2, 4, 6, 8, 10, 12},\n",
       " {7, 9, 11},\n",
       " {8, 10, 12})"
      ]
     },
     "execution_count": 98,
     "metadata": {},
     "output_type": "execute_result"
    }
   ],
   "source": [
    "a,b,c,d"
   ]
  },
  {
   "cell_type": "code",
   "execution_count": 99,
   "id": "2c54996b",
   "metadata": {},
   "outputs": [],
   "source": [
    "a={1,3,5}\n",
    "b={2,4,6}\n",
    "c={7,9,11}\n",
    "d={8,10,12}"
   ]
  },
  {
   "cell_type": "code",
   "execution_count": 100,
   "id": "1808e145",
   "metadata": {},
   "outputs": [
    {
     "data": {
      "text/plain": [
       "({1, 3, 5}, {2, 4, 6}, {7, 9, 11}, {8, 10, 12})"
      ]
     },
     "execution_count": 100,
     "metadata": {},
     "output_type": "execute_result"
    }
   ],
   "source": [
    "a,b,c,d"
   ]
  },
  {
   "cell_type": "code",
   "execution_count": 101,
   "id": "0f4a07d5",
   "metadata": {},
   "outputs": [
    {
     "data": {
      "text/plain": [
       "{1, 2, 3, 4, 5, 6}"
      ]
     },
     "execution_count": 101,
     "metadata": {},
     "output_type": "execute_result"
    }
   ],
   "source": [
    "a|b #union"
   ]
  },
  {
   "cell_type": "code",
   "execution_count": 102,
   "id": "4eef2b87",
   "metadata": {},
   "outputs": [
    {
     "data": {
      "text/plain": [
       "set()"
      ]
     },
     "execution_count": 102,
     "metadata": {},
     "output_type": "execute_result"
    }
   ],
   "source": [
    "a&b #intersection"
   ]
  },
  {
   "cell_type": "code",
   "execution_count": 103,
   "id": "b5e5b4be",
   "metadata": {},
   "outputs": [
    {
     "data": {
      "text/plain": [
       "{1, 3, 5}"
      ]
     },
     "execution_count": 103,
     "metadata": {},
     "output_type": "execute_result"
    }
   ],
   "source": [
    "a-b #difference"
   ]
  },
  {
   "cell_type": "code",
   "execution_count": 104,
   "id": "2ef06dd6",
   "metadata": {},
   "outputs": [
    {
     "data": {
      "text/plain": [
       "{2, 4, 6}"
      ]
     },
     "execution_count": 104,
     "metadata": {},
     "output_type": "execute_result"
    }
   ],
   "source": [
    "b-a"
   ]
  },
  {
   "cell_type": "code",
   "execution_count": 105,
   "id": "d3c1afd5",
   "metadata": {},
   "outputs": [
    {
     "data": {
      "text/plain": [
       "{1, 2, 3, 4, 5, 6}"
      ]
     },
     "execution_count": 105,
     "metadata": {},
     "output_type": "execute_result"
    }
   ],
   "source": [
    "a^b # symmetric difference"
   ]
  },
  {
   "cell_type": "code",
   "execution_count": 106,
   "id": "d895df34",
   "metadata": {},
   "outputs": [
    {
     "data": {
      "text/plain": [
       "{1, 2, 3, 4, 5, 6}"
      ]
     },
     "execution_count": 106,
     "metadata": {},
     "output_type": "execute_result"
    }
   ],
   "source": [
    "b^a"
   ]
  },
  {
   "cell_type": "code",
   "execution_count": 108,
   "id": "37079759",
   "metadata": {},
   "outputs": [
    {
     "data": {
      "text/plain": [
       "{1, 2, 3, 4, 5, 6}"
      ]
     },
     "execution_count": 108,
     "metadata": {},
     "output_type": "execute_result"
    }
   ],
   "source": [
    "a-b|b-a # symmetric difference"
   ]
  },
  {
   "cell_type": "code",
   "execution_count": 109,
   "id": "9f9135f5",
   "metadata": {},
   "outputs": [
    {
     "data": {
      "text/plain": [
       "{1, 3, 5, 7, 9, 11}"
      ]
     },
     "execution_count": 109,
     "metadata": {},
     "output_type": "execute_result"
    }
   ],
   "source": [
    "# in and not in\n",
    "A"
   ]
  },
  {
   "cell_type": "code",
   "execution_count": 110,
   "id": "1008236d",
   "metadata": {},
   "outputs": [
    {
     "data": {
      "text/plain": [
       "True"
      ]
     },
     "execution_count": 110,
     "metadata": {},
     "output_type": "execute_result"
    }
   ],
   "source": [
    "3 in A"
   ]
  },
  {
   "cell_type": "code",
   "execution_count": 111,
   "id": "4411999a",
   "metadata": {},
   "outputs": [
    {
     "data": {
      "text/plain": [
       "False"
      ]
     },
     "execution_count": 111,
     "metadata": {},
     "output_type": "execute_result"
    }
   ],
   "source": [
    "22 in A"
   ]
  },
  {
   "cell_type": "code",
   "execution_count": 112,
   "id": "8b0cecd4",
   "metadata": {},
   "outputs": [
    {
     "data": {
      "text/plain": [
       "False"
      ]
     },
     "execution_count": 112,
     "metadata": {},
     "output_type": "execute_result"
    }
   ],
   "source": [
    "1 not in A"
   ]
  },
  {
   "cell_type": "code",
   "execution_count": 113,
   "id": "04979a3f",
   "metadata": {},
   "outputs": [
    {
     "data": {
      "text/plain": [
       "True"
      ]
     },
     "execution_count": 113,
     "metadata": {},
     "output_type": "execute_result"
    }
   ],
   "source": [
    "22 not in A"
   ]
  },
  {
   "cell_type": "code",
   "execution_count": 118,
   "id": "ec2ccf01",
   "metadata": {},
   "outputs": [
    {
     "name": "stdout",
     "output_type": "stream",
     "text": [
      "Enter Your Score: 99\n",
      "You get 100% Scholarship\n"
     ]
    }
   ],
   "source": [
    "# IF else condition\n",
    "A=int(input(\"Enter Your Score: \"))\n",
    "if A>=50:\n",
    "    if A>=80:\n",
    "        if A>=90:\n",
    "            if A>=95:\n",
    "                print(\"You get 100% Scholarship\")\n",
    "            else:\n",
    "                print(\"You Get 80% Scholarship\")\n",
    "        else:\n",
    "            print(\"You Get 70% Scholarship\")\n",
    "    else:\n",
    "        print(\"Welcome You are Eligible for the addmision\")\n",
    "else:\n",
    "    print(\"Sorry! You are not Eligible\")\n"
   ]
  },
  {
   "cell_type": "code",
   "execution_count": 6,
   "id": "eb410703",
   "metadata": {},
   "outputs": [
    {
     "name": "stdout",
     "output_type": "stream",
     "text": [
      "Enrer Your Roll No. 205\n",
      "What is Your department\n",
      "Check Your Roll no\n"
     ]
    }
   ],
   "source": [
    "b=int(input(\"Enrer Your Roll No. \"))\n",
    "if (b%2==0 and b>0 and b<=200):\n",
    "    if b>=50:\n",
    "        print(\"Your Group is A+\")\n",
    "    else:\n",
    "        print(\"Your Group is B+\")\n",
    "elif b%2 != 0 and b<=200:\n",
    "    if b>=50:\n",
    "        print(\"Your Group is A\")\n",
    "    else:\n",
    "        print(\"Your Group is B\")\n",
    "elif b>=200:\n",
    "    print(\"What is Your department\")\n",
    "    print(\"Check Your Roll no\")\n",
    "else:\n",
    "    print(\"Please Check Your Roll Number\",b)"
   ]
  },
  {
   "cell_type": "markdown",
   "id": "8b2f022b",
   "metadata": {},
   "source": [
    "##  Range Function\n"
   ]
  },
  {
   "cell_type": "code",
   "execution_count": 8,
   "id": "2dfb8a6e",
   "metadata": {},
   "outputs": [
    {
     "name": "stdout",
     "output_type": "stream",
     "text": [
      "0\n",
      "1\n",
      "2\n",
      "3\n",
      "4\n"
     ]
    }
   ],
   "source": [
    "for i in range(5):\n",
    "    print(i)"
   ]
  },
  {
   "cell_type": "code",
   "execution_count": 9,
   "id": "6413d0a6",
   "metadata": {},
   "outputs": [
    {
     "name": "stdout",
     "output_type": "stream",
     "text": [
      "1\n",
      "2\n",
      "3\n",
      "4\n"
     ]
    }
   ],
   "source": [
    "for i in range(1,5):\n",
    "    print(i)"
   ]
  },
  {
   "cell_type": "code",
   "execution_count": 11,
   "id": "76be009c",
   "metadata": {},
   "outputs": [
    {
     "name": "stdout",
     "output_type": "stream",
     "text": [
      "8\n"
     ]
    }
   ],
   "source": [
    "for i in range(8,9):\n",
    "    print(i)"
   ]
  },
  {
   "cell_type": "code",
   "execution_count": 14,
   "id": "8ef4d78b",
   "metadata": {},
   "outputs": [
    {
     "name": "stdout",
     "output_type": "stream",
     "text": [
      "1\n",
      "2\n",
      "3\n",
      "4\n"
     ]
    }
   ],
   "source": [
    "for i in range(1,5,1):\n",
    "    print(i)"
   ]
  },
  {
   "cell_type": "code",
   "execution_count": 15,
   "id": "60eda3eb",
   "metadata": {},
   "outputs": [
    {
     "name": "stdout",
     "output_type": "stream",
     "text": [
      "6\n",
      "5\n",
      "4\n",
      "3\n",
      "2\n"
     ]
    }
   ],
   "source": [
    "for i in range(6,1,-1):\n",
    "    print(i)"
   ]
  },
  {
   "cell_type": "code",
   "execution_count": 16,
   "id": "3af48189",
   "metadata": {},
   "outputs": [
    {
     "name": "stdout",
     "output_type": "stream",
     "text": [
      "10\n",
      "8\n",
      "6\n",
      "4\n",
      "2\n"
     ]
    }
   ],
   "source": [
    "for i in range(10,0,-2):\n",
    "    print(i)"
   ]
  },
  {
   "cell_type": "code",
   "execution_count": 17,
   "id": "0a2a7a64",
   "metadata": {},
   "outputs": [],
   "source": [
    "for i in range(10,1):\n",
    "    print(i)"
   ]
  },
  {
   "cell_type": "code",
   "execution_count": 19,
   "id": "79accc69",
   "metadata": {},
   "outputs": [
    {
     "name": "stdout",
     "output_type": "stream",
     "text": [
      "-1\n",
      "0\n",
      "1\n",
      "2\n",
      "3\n",
      "4\n",
      "5\n",
      "6\n",
      "7\n",
      "8\n"
     ]
    }
   ],
   "source": [
    "for i in range(-1,9,1):\n",
    "    print(i)"
   ]
  },
  {
   "cell_type": "code",
   "execution_count": 20,
   "id": "9f52ed10",
   "metadata": {},
   "outputs": [
    {
     "name": "stdout",
     "output_type": "stream",
     "text": [
      "-12\n",
      "-10\n",
      "-8\n",
      "-6\n",
      "-4\n",
      "-2\n",
      "0\n",
      "2\n"
     ]
    }
   ],
   "source": [
    "for i in range(-12,3,2):\n",
    "    print(i)"
   ]
  },
  {
   "cell_type": "code",
   "execution_count": 21,
   "id": "9627c71c",
   "metadata": {},
   "outputs": [
    {
     "name": "stdout",
     "output_type": "stream",
     "text": [
      "hello\n",
      "ram\n",
      "shyam\n",
      "Raghu\n"
     ]
    }
   ],
   "source": [
    "A=[\"hello\",\"ram\",\"shyam\",\"Raghu\"]\n",
    "for i in A:\n",
    "    print(i)"
   ]
  },
  {
   "cell_type": "code",
   "execution_count": 22,
   "id": "d809624b",
   "metadata": {},
   "outputs": [
    {
     "name": "stdout",
     "output_type": "stream",
     "text": [
      "helloGood Morning\n",
      "ramGood Morning\n",
      "shyamGood Morning\n",
      "RaghuGood Morning\n"
     ]
    }
   ],
   "source": [
    "for i in A:\n",
    "    print(i+\"Good Morning\")"
   ]
  },
  {
   "cell_type": "code",
   "execution_count": 23,
   "id": "7e1f7b1b",
   "metadata": {},
   "outputs": [
    {
     "name": "stdout",
     "output_type": "stream",
     "text": [
      "Enter Your first Name: gautam\n",
      "Enter Your Last Name: vira\n",
      "Enter Your Std: 4\n",
      "Hello  gautam   vira Welcome in our School and your new standerd 4\n"
     ]
    }
   ],
   "source": [
    "A=input(\"Enter Your first Name: \")\n",
    "B=input(\"Enter Your Last Name: \")\n",
    "C=input(\"Enter Your Std: \")\n",
    "print(\"Hello \",A,\" \",B,\"Welcome in our School and your new standerd\",C)"
   ]
  },
  {
   "cell_type": "code",
   "execution_count": 1,
   "id": "adfc0213",
   "metadata": {},
   "outputs": [
    {
     "data": {
      "text/plain": [
       "{'rohan': {'r1': 1, 'r2': 2},\n",
       " 'kishan': 990,\n",
       " 'tina': {'t1': 11, 't2': {'tt1': 111, 'tt2': 222, 'tt3': 333}, 't3': 33}}"
      ]
     },
     "execution_count": 1,
     "metadata": {},
     "output_type": "execute_result"
    }
   ],
   "source": [
    "d2={\"rohan\":{\"r1\":1,\"r2\":2},\"kishan\":990,\"tina\":{\"t1\":11,\"t2\":{\"tt1\":111,\"tt2\":222,\"tt3\":333},\"t3\":33}}\n",
    "d2"
   ]
  },
  {
   "cell_type": "code",
   "execution_count": 2,
   "id": "ebc92d68",
   "metadata": {},
   "outputs": [
    {
     "name": "stdout",
     "output_type": "stream",
     "text": [
      "rohan\n",
      "kishan\n",
      "tina\n"
     ]
    }
   ],
   "source": [
    "for i in d2:\n",
    "    print(i)"
   ]
  },
  {
   "cell_type": "code",
   "execution_count": 5,
   "id": "b332bccb",
   "metadata": {},
   "outputs": [
    {
     "name": "stdout",
     "output_type": "stream",
     "text": [
      "Enter Your Name: rohan\n",
      "Enter Your section: r2\n",
      "2\n"
     ]
    }
   ],
   "source": [
    "i=input(\"Enter Your Name: \")\n",
    "if i==\"rohan\":\n",
    "    c=input(\"Enter Your section: \")\n",
    "    if c==\"r1\":\n",
    "        print(1)\n",
    "    else:\n",
    "        print(2)\n",
    "elif i==\"tina\":\n",
    "    d=input(\"enter Your Section: \")\n",
    "    if d==\"t1\":\n",
    "        print(11)\n",
    "    elif d==\"t2\":\n",
    "        e=input(\"Enter Your Subsection: \")\n",
    "        if e==\"tt1\":\n",
    "            print(111)\n",
    "        elif e==\"tt2\":\n",
    "            print(222)\n",
    "        else:\n",
    "            print(333)\n",
    "    else:\n",
    "        print(33)\n",
    "else:\n",
    "        print(990)"
   ]
  },
  {
   "cell_type": "code",
   "execution_count": null,
   "id": "04bfc41c",
   "metadata": {},
   "outputs": [],
   "source": []
  }
 ],
 "metadata": {
  "kernelspec": {
   "display_name": "Python 3 (ipykernel)",
   "language": "python",
   "name": "python3"
  },
  "language_info": {
   "codemirror_mode": {
    "name": "ipython",
    "version": 3
   },
   "file_extension": ".py",
   "mimetype": "text/x-python",
   "name": "python",
   "nbconvert_exporter": "python",
   "pygments_lexer": "ipython3",
   "version": "3.9.13"
  }
 },
 "nbformat": 4,
 "nbformat_minor": 5
}
