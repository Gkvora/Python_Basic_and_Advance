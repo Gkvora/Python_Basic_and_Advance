{
 "cells": [
  {
   "cell_type": "code",
   "execution_count": 7,
   "id": "770215de",
   "metadata": {},
   "outputs": [
    {
     "name": "stdout",
     "output_type": "stream",
     "text": [
      "Enter Your Name:vora\n",
      "Enter Your Roll no:56\n",
      "Your name is vora and roll no is 56\n"
     ]
    }
   ],
   "source": [
    "a=input(\"Enter Your Name:\")\n",
    "b=input(\"Enter Your Roll no:\")\n",
    "print(f\"Your name is {a} and roll no is {b}\")"
   ]
  },
  {
   "cell_type": "code",
   "execution_count": 8,
   "id": "6ca5d916",
   "metadata": {},
   "outputs": [
    {
     "name": "stdout",
     "output_type": "stream",
     "text": [
      "8\n"
     ]
    }
   ],
   "source": [
    "print(2**3)"
   ]
  },
  {
   "cell_type": "code",
   "execution_count": 9,
   "id": "e29ec666",
   "metadata": {},
   "outputs": [
    {
     "name": "stdout",
     "output_type": "stream",
     "text": [
      "1\n"
     ]
    }
   ],
   "source": [
    "print(22%3)"
   ]
  },
  {
   "cell_type": "code",
   "execution_count": 10,
   "id": "dd44cca0",
   "metadata": {},
   "outputs": [
    {
     "name": "stdout",
     "output_type": "stream",
     "text": [
      "7.333333333333333\n"
     ]
    }
   ],
   "source": [
    "print(22/3)"
   ]
  },
  {
   "cell_type": "code",
   "execution_count": 11,
   "id": "857cfc1a",
   "metadata": {},
   "outputs": [
    {
     "name": "stdout",
     "output_type": "stream",
     "text": [
      "7\n"
     ]
    }
   ],
   "source": [
    "print(22//3)"
   ]
  },
  {
   "cell_type": "code",
   "execution_count": 12,
   "id": "290887da",
   "metadata": {},
   "outputs": [
    {
     "data": {
      "text/plain": [
       "True"
      ]
     },
     "execution_count": 12,
     "metadata": {},
     "output_type": "execute_result"
    }
   ],
   "source": [
    "a=[3,4,5]\n",
    "5 in a"
   ]
  },
  {
   "cell_type": "code",
   "execution_count": 14,
   "id": "c945b9a1",
   "metadata": {},
   "outputs": [
    {
     "data": {
      "text/plain": [
       "True"
      ]
     },
     "execution_count": 14,
     "metadata": {},
     "output_type": "execute_result"
    }
   ],
   "source": [
    "33 not in a"
   ]
  },
  {
   "cell_type": "code",
   "execution_count": 1,
   "id": "79f73e1d",
   "metadata": {},
   "outputs": [
    {
     "name": "stdout",
     "output_type": "stream",
     "text": [
      "Enter number: 19\n",
      "19\n",
      "18\n",
      "17\n",
      "16\n"
     ]
    }
   ],
   "source": [
    "count=int(input(\"Enter number: \"))\n",
    "while  count >0:\n",
    "    if count%5 == 0:\n",
    "        break\n",
    "    else:\n",
    "        print(count)\n",
    "        count-=1"
   ]
  },
  {
   "cell_type": "code",
   "execution_count": 3,
   "id": "c720fa30",
   "metadata": {},
   "outputs": [
    {
     "name": "stdout",
     "output_type": "stream",
     "text": [
      "Enter Yout Name: shubhash\n",
      "s\n",
      "h\n",
      "u\n",
      "b\n",
      "h\n",
      "s\n",
      "h\n"
     ]
    }
   ],
   "source": [
    "a=input(\"Enter Yout Name: \")\n",
    "for i in a:\n",
    "    if i==\"a\":\n",
    "        continue\n",
    "    else:\n",
    "        print(i)"
   ]
  },
  {
   "cell_type": "code",
   "execution_count": 6,
   "id": "5311b093",
   "metadata": {},
   "outputs": [
    {
     "name": "stdout",
     "output_type": "stream",
     "text": [
      "enter your name:shubhash\n",
      "ss\n",
      "hh\n",
      "uu\n",
      "bb\n",
      "hh\n"
     ]
    }
   ],
   "source": [
    "a=input(\"enter your name:\")\n",
    "for i in a:\n",
    "    if i==\"a\":\n",
    "        break\n",
    "    else:\n",
    "        print(i*2)"
   ]
  },
  {
   "cell_type": "code",
   "execution_count": 10,
   "id": "d10e97e7",
   "metadata": {},
   "outputs": [
    {
     "data": {
      "text/plain": [
       "list"
      ]
     },
     "execution_count": 10,
     "metadata": {},
     "output_type": "execute_result"
    }
   ],
   "source": [
    "a=[23,22,56,[234,\"Ram\",[12,45,'Raghu']],\"Vora\",\"gk\",56.90]\n",
    "type(a)"
   ]
  },
  {
   "cell_type": "code",
   "execution_count": 11,
   "id": "9e6f958e",
   "metadata": {},
   "outputs": [
    {
     "data": {
      "text/plain": [
       "[23, 22, 56, [234, 'Ram', [12, 45, 'Raghu']], 'Vora', 'gk', 56.9]"
      ]
     },
     "execution_count": 11,
     "metadata": {},
     "output_type": "execute_result"
    }
   ],
   "source": [
    "a"
   ]
  },
  {
   "cell_type": "code",
   "execution_count": 12,
   "id": "76d878c4",
   "metadata": {},
   "outputs": [
    {
     "data": {
      "text/plain": [
       "56"
      ]
     },
     "execution_count": 12,
     "metadata": {},
     "output_type": "execute_result"
    }
   ],
   "source": [
    "a[2]"
   ]
  },
  {
   "cell_type": "code",
   "execution_count": 13,
   "id": "87602754",
   "metadata": {},
   "outputs": [
    {
     "data": {
      "text/plain": [
       "23"
      ]
     },
     "execution_count": 13,
     "metadata": {},
     "output_type": "execute_result"
    }
   ],
   "source": [
    "a[0]"
   ]
  },
  {
   "cell_type": "code",
   "execution_count": 14,
   "id": "63e3748a",
   "metadata": {},
   "outputs": [
    {
     "data": {
      "text/plain": [
       "'Ram'"
      ]
     },
     "execution_count": 14,
     "metadata": {},
     "output_type": "execute_result"
    }
   ],
   "source": [
    "a[3][1]"
   ]
  },
  {
   "cell_type": "code",
   "execution_count": 15,
   "id": "1483cab0",
   "metadata": {},
   "outputs": [
    {
     "data": {
      "text/plain": [
       "'Raghu'"
      ]
     },
     "execution_count": 15,
     "metadata": {},
     "output_type": "execute_result"
    }
   ],
   "source": [
    "a[3][2][2]"
   ]
  },
  {
   "cell_type": "code",
   "execution_count": 1,
   "id": "ef60ee7d",
   "metadata": {},
   "outputs": [
    {
     "name": "stdout",
     "output_type": "stream",
     "text": [
      "gkgkgkgkgkgkgkgkgkgk\n"
     ]
    }
   ],
   "source": [
    "print(10*\"gk\")"
   ]
  },
  {
   "cell_type": "code",
   "execution_count": 2,
   "id": "8e7b15b3",
   "metadata": {},
   "outputs": [
    {
     "name": "stdout",
     "output_type": "stream",
     "text": [
      "gk\n",
      "gk\n",
      "gk\n",
      "gk\n",
      "gk\n",
      "gk\n",
      "gk\n",
      "gk\n",
      "gk\n",
      "gk\n",
      "\n"
     ]
    }
   ],
   "source": [
    "print(10*\"gk\\n\")"
   ]
  },
  {
   "cell_type": "code",
   "execution_count": 3,
   "id": "cb2609e2",
   "metadata": {},
   "outputs": [
    {
     "name": "stdout",
     "output_type": "stream",
     "text": [
      "\n",
      "G\n",
      "GG\n",
      "GGG\n",
      "GGGG\n",
      "GGGGG\n",
      "GGGGGG\n",
      "GGGGGGG\n",
      "GGGGGGGG\n",
      "GGGGGGGGG\n",
      "GGGGGGGGGG\n"
     ]
    }
   ],
   "source": [
    "for i in range(11):\n",
    "    print(i*\"G\")"
   ]
  },
  {
   "cell_type": "code",
   "execution_count": 4,
   "id": "8fedd113",
   "metadata": {},
   "outputs": [
    {
     "name": "stdout",
     "output_type": "stream",
     "text": [
      "GGGGGGGGGGGGGGGGGGGGGGGGGGGGGGGGGGGGGGGGGGGGGGGGGGGGGGG"
     ]
    }
   ],
   "source": [
    "for i in range(11):\n",
    "    print(i*\"G\",end=\"\")"
   ]
  },
  {
   "cell_type": "code",
   "execution_count": 5,
   "id": "ba0075ed",
   "metadata": {},
   "outputs": [],
   "source": [
    "a=\"My name is vora Gautam\""
   ]
  },
  {
   "cell_type": "code",
   "execution_count": 7,
   "id": "ef9623e2",
   "metadata": {},
   "outputs": [
    {
     "data": {
      "text/plain": [
       "'y'"
      ]
     },
     "execution_count": 7,
     "metadata": {},
     "output_type": "execute_result"
    }
   ],
   "source": [
    "a[1]"
   ]
  },
  {
   "cell_type": "code",
   "execution_count": 8,
   "id": "8c8b72a0",
   "metadata": {},
   "outputs": [
    {
     "data": {
      "text/plain": [
       "'m'"
      ]
     },
     "execution_count": 8,
     "metadata": {},
     "output_type": "execute_result"
    }
   ],
   "source": [
    "a[-1]"
   ]
  },
  {
   "cell_type": "code",
   "execution_count": 9,
   "id": "028cac91",
   "metadata": {},
   "outputs": [
    {
     "data": {
      "text/plain": [
       "'t'"
      ]
     },
     "execution_count": 9,
     "metadata": {},
     "output_type": "execute_result"
    }
   ],
   "source": [
    "a[-3]"
   ]
  },
  {
   "cell_type": "code",
   "execution_count": 10,
   "id": "7cf2157f",
   "metadata": {},
   "outputs": [
    {
     "data": {
      "text/plain": [
       "'My name is vora Gautam'"
      ]
     },
     "execution_count": 10,
     "metadata": {},
     "output_type": "execute_result"
    }
   ],
   "source": [
    "a[:]"
   ]
  },
  {
   "cell_type": "code",
   "execution_count": 39,
   "id": "488e950c",
   "metadata": {},
   "outputs": [
    {
     "data": {
      "text/plain": [
       "'matuaG arov si eman yM'"
      ]
     },
     "execution_count": 39,
     "metadata": {},
     "output_type": "execute_result"
    }
   ],
   "source": [
    "a[::-1]"
   ]
  },
  {
   "cell_type": "code",
   "execution_count": 11,
   "id": "c3485243",
   "metadata": {},
   "outputs": [
    {
     "data": {
      "text/plain": [
       "'y '"
      ]
     },
     "execution_count": 11,
     "metadata": {},
     "output_type": "execute_result"
    }
   ],
   "source": [
    "a[1:3]"
   ]
  },
  {
   "cell_type": "code",
   "execution_count": 12,
   "id": "5197b358",
   "metadata": {},
   "outputs": [
    {
     "data": {
      "text/plain": [
       "'y n'"
      ]
     },
     "execution_count": 12,
     "metadata": {},
     "output_type": "execute_result"
    }
   ],
   "source": [
    "a[1:4]"
   ]
  },
  {
   "cell_type": "code",
   "execution_count": 13,
   "id": "2bcc1968",
   "metadata": {},
   "outputs": [
    {
     "data": {
      "text/plain": [
       "'M aei oaGua'"
      ]
     },
     "execution_count": 13,
     "metadata": {},
     "output_type": "execute_result"
    }
   ],
   "source": [
    "a[::2]"
   ]
  },
  {
   "cell_type": "code",
   "execution_count": 17,
   "id": "903b6992",
   "metadata": {},
   "outputs": [],
   "source": [
    "b=\"voragautam\"\n",
    "c=\"vora gautam\""
   ]
  },
  {
   "cell_type": "code",
   "execution_count": 18,
   "id": "c9992836",
   "metadata": {},
   "outputs": [
    {
     "data": {
      "text/plain": [
       "True"
      ]
     },
     "execution_count": 18,
     "metadata": {},
     "output_type": "execute_result"
    }
   ],
   "source": [
    "b.isalpha()"
   ]
  },
  {
   "cell_type": "code",
   "execution_count": 19,
   "id": "99286546",
   "metadata": {},
   "outputs": [
    {
     "data": {
      "text/plain": [
       "False"
      ]
     },
     "execution_count": 19,
     "metadata": {},
     "output_type": "execute_result"
    }
   ],
   "source": [
    "c.isalpha()"
   ]
  },
  {
   "cell_type": "code",
   "execution_count": 21,
   "id": "f112f669",
   "metadata": {},
   "outputs": [
    {
     "data": {
      "text/plain": [
       "True"
      ]
     },
     "execution_count": 21,
     "metadata": {},
     "output_type": "execute_result"
    }
   ],
   "source": [
    "d=\"vora34\"\n",
    "d.isalnum()"
   ]
  },
  {
   "cell_type": "code",
   "execution_count": 22,
   "id": "556b37b7",
   "metadata": {},
   "outputs": [
    {
     "data": {
      "text/plain": [
       "False"
      ]
     },
     "execution_count": 22,
     "metadata": {},
     "output_type": "execute_result"
    }
   ],
   "source": [
    "e=\"vora 123\"\n",
    "e.isalnum()"
   ]
  },
  {
   "cell_type": "code",
   "execution_count": 23,
   "id": "b40ccf93",
   "metadata": {},
   "outputs": [
    {
     "data": {
      "text/plain": [
       "'My name is vora Gautam'"
      ]
     },
     "execution_count": 23,
     "metadata": {},
     "output_type": "execute_result"
    }
   ],
   "source": [
    "a"
   ]
  },
  {
   "cell_type": "code",
   "execution_count": 24,
   "id": "18970e31",
   "metadata": {},
   "outputs": [
    {
     "data": {
      "text/plain": [
       "True"
      ]
     },
     "execution_count": 24,
     "metadata": {},
     "output_type": "execute_result"
    }
   ],
   "source": [
    "a.endswith(\"am\")"
   ]
  },
  {
   "cell_type": "code",
   "execution_count": 25,
   "id": "dc0f88d3",
   "metadata": {},
   "outputs": [
    {
     "data": {
      "text/plain": [
       "False"
      ]
     },
     "execution_count": 25,
     "metadata": {},
     "output_type": "execute_result"
    }
   ],
   "source": [
    "a.endswith(\"gautam\")"
   ]
  },
  {
   "cell_type": "code",
   "execution_count": 29,
   "id": "57bfc3e1",
   "metadata": {},
   "outputs": [
    {
     "data": {
      "text/plain": [
       "1"
      ]
     },
     "execution_count": 29,
     "metadata": {},
     "output_type": "execute_result"
    }
   ],
   "source": [
    "a.count(\"u\")"
   ]
  },
  {
   "cell_type": "code",
   "execution_count": 30,
   "id": "778d1717",
   "metadata": {},
   "outputs": [
    {
     "data": {
      "text/plain": [
       "'My name is vora gautam'"
      ]
     },
     "execution_count": 30,
     "metadata": {},
     "output_type": "execute_result"
    }
   ],
   "source": [
    "a.capitalize()"
   ]
  },
  {
   "cell_type": "code",
   "execution_count": 31,
   "id": "95d266fc",
   "metadata": {},
   "outputs": [
    {
     "data": {
      "text/plain": [
       "'MY NAME IS VORA GAUTAM'"
      ]
     },
     "execution_count": 31,
     "metadata": {},
     "output_type": "execute_result"
    }
   ],
   "source": [
    "a.upper()"
   ]
  },
  {
   "cell_type": "code",
   "execution_count": 32,
   "id": "9c9c0f55",
   "metadata": {},
   "outputs": [
    {
     "data": {
      "text/plain": [
       "'my name is vora gautam'"
      ]
     },
     "execution_count": 32,
     "metadata": {},
     "output_type": "execute_result"
    }
   ],
   "source": [
    "a.lower()"
   ]
  },
  {
   "cell_type": "code",
   "execution_count": 34,
   "id": "477c749b",
   "metadata": {},
   "outputs": [
    {
     "data": {
      "text/plain": [
       "6"
      ]
     },
     "execution_count": 34,
     "metadata": {},
     "output_type": "execute_result"
    }
   ],
   "source": [
    "a.find(\"e\")"
   ]
  },
  {
   "cell_type": "code",
   "execution_count": 35,
   "id": "4ab49d84",
   "metadata": {},
   "outputs": [
    {
     "data": {
      "text/plain": [
       "4"
      ]
     },
     "execution_count": 35,
     "metadata": {},
     "output_type": "execute_result"
    }
   ],
   "source": [
    "a.find(\"a\")"
   ]
  },
  {
   "cell_type": "code",
   "execution_count": 38,
   "id": "ac81084f",
   "metadata": {},
   "outputs": [
    {
     "data": {
      "text/plain": [
       "'My name was vora Gautam'"
      ]
     },
     "execution_count": 38,
     "metadata": {},
     "output_type": "execute_result"
    }
   ],
   "source": [
    "a.replace(\"is\",\"was\")"
   ]
  },
  {
   "cell_type": "markdown",
   "id": "5a998a08",
   "metadata": {},
   "source": [
    "## list"
   ]
  },
  {
   "cell_type": "code",
   "execution_count": 40,
   "id": "6cd620ca",
   "metadata": {},
   "outputs": [],
   "source": [
    "a=[2,7,9,3]"
   ]
  },
  {
   "cell_type": "code",
   "execution_count": 41,
   "id": "badf5193",
   "metadata": {},
   "outputs": [
    {
     "data": {
      "text/plain": [
       "list"
      ]
     },
     "execution_count": 41,
     "metadata": {},
     "output_type": "execute_result"
    }
   ],
   "source": [
    "type(a)"
   ]
  },
  {
   "cell_type": "code",
   "execution_count": 42,
   "id": "dd6c85d8",
   "metadata": {},
   "outputs": [
    {
     "data": {
      "text/plain": [
       "9"
      ]
     },
     "execution_count": 42,
     "metadata": {},
     "output_type": "execute_result"
    }
   ],
   "source": [
    "a[2]"
   ]
  },
  {
   "cell_type": "code",
   "execution_count": 52,
   "id": "2fe3f320",
   "metadata": {},
   "outputs": [],
   "source": [
    "a.sort()"
   ]
  },
  {
   "cell_type": "code",
   "execution_count": 54,
   "id": "142d8dba",
   "metadata": {},
   "outputs": [
    {
     "data": {
      "text/plain": [
       "[2, 3, 7, 9]"
      ]
     },
     "execution_count": 54,
     "metadata": {},
     "output_type": "execute_result"
    }
   ],
   "source": [
    "a"
   ]
  },
  {
   "cell_type": "code",
   "execution_count": 55,
   "id": "8c59383a",
   "metadata": {},
   "outputs": [],
   "source": [
    "a.sort()\n",
    "a.reverse()"
   ]
  },
  {
   "cell_type": "code",
   "execution_count": 56,
   "id": "a1758810",
   "metadata": {},
   "outputs": [
    {
     "data": {
      "text/plain": [
       "[9, 7, 3, 2]"
      ]
     },
     "execution_count": 56,
     "metadata": {},
     "output_type": "execute_result"
    }
   ],
   "source": [
    "a"
   ]
  },
  {
   "cell_type": "code",
   "execution_count": 58,
   "id": "e2f9de0b",
   "metadata": {},
   "outputs": [],
   "source": [
    "a=[2,7,9,3,33,45,23]"
   ]
  },
  {
   "cell_type": "code",
   "execution_count": 59,
   "id": "4baeebe9",
   "metadata": {},
   "outputs": [
    {
     "data": {
      "text/plain": [
       "[2, 7, 9, 3, 33, 45, 23]"
      ]
     },
     "execution_count": 59,
     "metadata": {},
     "output_type": "execute_result"
    }
   ],
   "source": [
    "a[::]"
   ]
  },
  {
   "cell_type": "code",
   "execution_count": 60,
   "id": "c8979545",
   "metadata": {},
   "outputs": [
    {
     "data": {
      "text/plain": [
       "[23, 45, 33, 3, 9, 7, 2]"
      ]
     },
     "execution_count": 60,
     "metadata": {},
     "output_type": "execute_result"
    }
   ],
   "source": [
    "a[::-1]"
   ]
  },
  {
   "cell_type": "code",
   "execution_count": 61,
   "id": "daf85eb0",
   "metadata": {},
   "outputs": [
    {
     "data": {
      "text/plain": [
       "[2, 9, 33, 23]"
      ]
     },
     "execution_count": 61,
     "metadata": {},
     "output_type": "execute_result"
    }
   ],
   "source": [
    "a[::2]"
   ]
  },
  {
   "cell_type": "code",
   "execution_count": 62,
   "id": "223caa85",
   "metadata": {},
   "outputs": [],
   "source": [
    "a.append(233)"
   ]
  },
  {
   "cell_type": "code",
   "execution_count": 63,
   "id": "5ac4edfd",
   "metadata": {},
   "outputs": [
    {
     "data": {
      "text/plain": [
       "[2, 7, 9, 3, 33, 45, 23, 233]"
      ]
     },
     "execution_count": 63,
     "metadata": {},
     "output_type": "execute_result"
    }
   ],
   "source": [
    "a"
   ]
  },
  {
   "cell_type": "code",
   "execution_count": 64,
   "id": "c90442fd",
   "metadata": {},
   "outputs": [],
   "source": [
    "a.insert(2,33)"
   ]
  },
  {
   "cell_type": "code",
   "execution_count": 65,
   "id": "b9fa7e57",
   "metadata": {},
   "outputs": [
    {
     "data": {
      "text/plain": [
       "[2, 7, 33, 9, 3, 33, 45, 23, 233]"
      ]
     },
     "execution_count": 65,
     "metadata": {},
     "output_type": "execute_result"
    }
   ],
   "source": [
    "a"
   ]
  },
  {
   "cell_type": "code",
   "execution_count": 66,
   "id": "87aaadd4",
   "metadata": {},
   "outputs": [],
   "source": [
    "a.insert(3,\"vora\")"
   ]
  },
  {
   "cell_type": "code",
   "execution_count": 67,
   "id": "6c93bab2",
   "metadata": {},
   "outputs": [
    {
     "data": {
      "text/plain": [
       "[2, 7, 33, 'vora', 9, 3, 33, 45, 23, 233]"
      ]
     },
     "execution_count": 67,
     "metadata": {},
     "output_type": "execute_result"
    }
   ],
   "source": [
    "a"
   ]
  },
  {
   "cell_type": "code",
   "execution_count": 68,
   "id": "3407652c",
   "metadata": {},
   "outputs": [],
   "source": [
    "a.remove(33)"
   ]
  },
  {
   "cell_type": "code",
   "execution_count": 69,
   "id": "f08dd6b0",
   "metadata": {},
   "outputs": [
    {
     "data": {
      "text/plain": [
       "[2, 7, 'vora', 9, 3, 33, 45, 23, 233]"
      ]
     },
     "execution_count": 69,
     "metadata": {},
     "output_type": "execute_result"
    }
   ],
   "source": [
    "a"
   ]
  },
  {
   "cell_type": "code",
   "execution_count": 70,
   "id": "d61e5e69",
   "metadata": {},
   "outputs": [],
   "source": [
    "del a[1]"
   ]
  },
  {
   "cell_type": "code",
   "execution_count": 71,
   "id": "066a293a",
   "metadata": {},
   "outputs": [
    {
     "data": {
      "text/plain": [
       "[2, 'vora', 9, 3, 33, 45, 23, 233]"
      ]
     },
     "execution_count": 71,
     "metadata": {},
     "output_type": "execute_result"
    }
   ],
   "source": [
    "a"
   ]
  },
  {
   "cell_type": "code",
   "execution_count": 74,
   "id": "efb0e849",
   "metadata": {},
   "outputs": [],
   "source": [
    "a[2]=\"gk\"  # replace"
   ]
  },
  {
   "cell_type": "code",
   "execution_count": 75,
   "id": "a7a5b618",
   "metadata": {},
   "outputs": [
    {
     "data": {
      "text/plain": [
       "[2, 'vora', 'gk', 3, 33, 45, 23, 233]"
      ]
     },
     "execution_count": 75,
     "metadata": {},
     "output_type": "execute_result"
    }
   ],
   "source": [
    "a"
   ]
  },
  {
   "cell_type": "code",
   "execution_count": 77,
   "id": "150e69b5",
   "metadata": {},
   "outputs": [
    {
     "data": {
      "text/plain": [
       "233"
      ]
     },
     "execution_count": 77,
     "metadata": {},
     "output_type": "execute_result"
    }
   ],
   "source": [
    "a.pop()"
   ]
  },
  {
   "cell_type": "code",
   "execution_count": 78,
   "id": "38a92b4c",
   "metadata": {},
   "outputs": [
    {
     "data": {
      "text/plain": [
       "[2, 'vora', 'gk', 3, 33, 45, 23]"
      ]
     },
     "execution_count": 78,
     "metadata": {},
     "output_type": "execute_result"
    }
   ],
   "source": [
    "a"
   ]
  },
  {
   "cell_type": "markdown",
   "id": "25eacde7",
   "metadata": {},
   "source": [
    "## Tuple"
   ]
  },
  {
   "cell_type": "code",
   "execution_count": 79,
   "id": "28ff12fa",
   "metadata": {},
   "outputs": [],
   "source": [
    "tp=(1,2,3,4)\n"
   ]
  },
  {
   "cell_type": "code",
   "execution_count": 82,
   "id": "5240a01c",
   "metadata": {},
   "outputs": [
    {
     "data": {
      "text/plain": [
       "tuple"
      ]
     },
     "execution_count": 82,
     "metadata": {},
     "output_type": "execute_result"
    }
   ],
   "source": [
    "type(tp)"
   ]
  },
  {
   "cell_type": "code",
   "execution_count": 83,
   "id": "a3c3e6fe",
   "metadata": {},
   "outputs": [],
   "source": [
    "tp1=(1)"
   ]
  },
  {
   "cell_type": "code",
   "execution_count": 84,
   "id": "1ca296cf",
   "metadata": {},
   "outputs": [
    {
     "data": {
      "text/plain": [
       "int"
      ]
     },
     "execution_count": 84,
     "metadata": {},
     "output_type": "execute_result"
    }
   ],
   "source": [
    "type(tp1)"
   ]
  },
  {
   "cell_type": "code",
   "execution_count": 85,
   "id": "6891ba25",
   "metadata": {},
   "outputs": [],
   "source": [
    "tp2=(1,)"
   ]
  },
  {
   "cell_type": "code",
   "execution_count": 86,
   "id": "91def9b8",
   "metadata": {},
   "outputs": [
    {
     "data": {
      "text/plain": [
       "tuple"
      ]
     },
     "execution_count": 86,
     "metadata": {},
     "output_type": "execute_result"
    }
   ],
   "source": [
    "type(tp2)"
   ]
  },
  {
   "cell_type": "code",
   "execution_count": 88,
   "id": "ff74904b",
   "metadata": {
    "scrolled": true
   },
   "outputs": [],
   "source": [
    "# tp[1]=69"
   ]
  },
  {
   "cell_type": "markdown",
   "id": "317c09de",
   "metadata": {},
   "source": [
    "## Dictionary"
   ]
  },
  {
   "cell_type": "code",
   "execution_count": 89,
   "id": "f0e4c6d7",
   "metadata": {},
   "outputs": [
    {
     "data": {
      "text/plain": [
       "dict"
      ]
     },
     "execution_count": 89,
     "metadata": {},
     "output_type": "execute_result"
    }
   ],
   "source": [
    "d={}\n",
    "type(d)"
   ]
  },
  {
   "cell_type": "code",
   "execution_count": 90,
   "id": "67f1d3b2",
   "metadata": {},
   "outputs": [],
   "source": [
    "d={1:\"gk\",2:\"vora\"}"
   ]
  },
  {
   "cell_type": "code",
   "execution_count": 91,
   "id": "78102ed7",
   "metadata": {},
   "outputs": [
    {
     "data": {
      "text/plain": [
       "'gk'"
      ]
     },
     "execution_count": 91,
     "metadata": {},
     "output_type": "execute_result"
    }
   ],
   "source": [
    "d[1]"
   ]
  },
  {
   "cell_type": "code",
   "execution_count": 92,
   "id": "46d295b7",
   "metadata": {},
   "outputs": [
    {
     "data": {
      "text/plain": [
       "'vora'"
      ]
     },
     "execution_count": 92,
     "metadata": {},
     "output_type": "execute_result"
    }
   ],
   "source": [
    "d[2]"
   ]
  },
  {
   "cell_type": "code",
   "execution_count": 93,
   "id": "18a78efe",
   "metadata": {},
   "outputs": [],
   "source": [
    "v={1:\"gk\",2:\"vora\",3:{11:\"gj5\",22:\"ty\"}}\n"
   ]
  },
  {
   "cell_type": "code",
   "execution_count": 94,
   "id": "8d1e7f2d",
   "metadata": {},
   "outputs": [
    {
     "data": {
      "text/plain": [
       "'gj5'"
      ]
     },
     "execution_count": 94,
     "metadata": {},
     "output_type": "execute_result"
    }
   ],
   "source": [
    "v[3][11]"
   ]
  },
  {
   "cell_type": "code",
   "execution_count": 95,
   "id": "aa9f5765",
   "metadata": {},
   "outputs": [],
   "source": [
    "v[3][33]=\"vh\""
   ]
  },
  {
   "cell_type": "code",
   "execution_count": 96,
   "id": "a75b947f",
   "metadata": {},
   "outputs": [
    {
     "data": {
      "text/plain": [
       "{1: 'gk', 2: 'vora', 3: {11: 'gj5', 22: 'ty', 33: 'vh'}}"
      ]
     },
     "execution_count": 96,
     "metadata": {},
     "output_type": "execute_result"
    }
   ],
   "source": [
    "v"
   ]
  },
  {
   "cell_type": "code",
   "execution_count": 97,
   "id": "5292ef54",
   "metadata": {},
   "outputs": [],
   "source": [
    "v[4]=\"bhai\""
   ]
  },
  {
   "cell_type": "code",
   "execution_count": 98,
   "id": "4998b4b9",
   "metadata": {},
   "outputs": [
    {
     "data": {
      "text/plain": [
       "{1: 'gk', 2: 'vora', 3: {11: 'gj5', 22: 'ty', 33: 'vh'}, 4: 'bhai'}"
      ]
     },
     "execution_count": 98,
     "metadata": {},
     "output_type": "execute_result"
    }
   ],
   "source": [
    "v"
   ]
  },
  {
   "cell_type": "code",
   "execution_count": 99,
   "id": "5bae1af0",
   "metadata": {},
   "outputs": [
    {
     "data": {
      "text/plain": [
       "dict_keys([1, 2, 3, 4])"
      ]
     },
     "execution_count": 99,
     "metadata": {},
     "output_type": "execute_result"
    }
   ],
   "source": [
    "v.keys()"
   ]
  },
  {
   "cell_type": "code",
   "execution_count": 101,
   "id": "edce4644",
   "metadata": {},
   "outputs": [
    {
     "data": {
      "text/plain": [
       "dict_items([(1, 'gk'), (2, 'vora'), (3, {11: 'gj5', 22: 'ty', 33: 'vh'}), (4, 'bhai')])"
      ]
     },
     "execution_count": 101,
     "metadata": {},
     "output_type": "execute_result"
    }
   ],
   "source": [
    "v.items()"
   ]
  },
  {
   "cell_type": "markdown",
   "id": "3e775f44",
   "metadata": {},
   "source": [
    "## Set"
   ]
  },
  {
   "cell_type": "code",
   "execution_count": 2,
   "id": "a245419e",
   "metadata": {},
   "outputs": [],
   "source": [
    "a=set()"
   ]
  },
  {
   "cell_type": "code",
   "execution_count": 3,
   "id": "05fef807",
   "metadata": {},
   "outputs": [
    {
     "data": {
      "text/plain": [
       "set"
      ]
     },
     "execution_count": 3,
     "metadata": {},
     "output_type": "execute_result"
    }
   ],
   "source": [
    "type(a)"
   ]
  },
  {
   "cell_type": "code",
   "execution_count": 4,
   "id": "0465cdf4",
   "metadata": {},
   "outputs": [],
   "source": [
    "b={12,34,4,44}"
   ]
  },
  {
   "cell_type": "code",
   "execution_count": 5,
   "id": "4df273ac",
   "metadata": {},
   "outputs": [
    {
     "data": {
      "text/plain": [
       "set"
      ]
     },
     "execution_count": 5,
     "metadata": {},
     "output_type": "execute_result"
    }
   ],
   "source": [
    "type(b)"
   ]
  },
  {
   "cell_type": "code",
   "execution_count": 6,
   "id": "bd02919b",
   "metadata": {},
   "outputs": [],
   "source": [
    "a={44,56,78}"
   ]
  },
  {
   "cell_type": "code",
   "execution_count": 7,
   "id": "91e79465",
   "metadata": {},
   "outputs": [],
   "source": [
    "b.add(1)"
   ]
  },
  {
   "cell_type": "code",
   "execution_count": 8,
   "id": "0f268754",
   "metadata": {},
   "outputs": [
    {
     "data": {
      "text/plain": [
       "{1, 4, 12, 34, 44}"
      ]
     },
     "execution_count": 8,
     "metadata": {},
     "output_type": "execute_result"
    }
   ],
   "source": [
    "b"
   ]
  },
  {
   "cell_type": "code",
   "execution_count": 9,
   "id": "a52253e5",
   "metadata": {},
   "outputs": [
    {
     "data": {
      "text/plain": [
       "{1, 4, 12, 34, 44, 56, 78}"
      ]
     },
     "execution_count": 9,
     "metadata": {},
     "output_type": "execute_result"
    }
   ],
   "source": [
    "a.union(b)"
   ]
  },
  {
   "cell_type": "code",
   "execution_count": 10,
   "id": "c6dd0599",
   "metadata": {},
   "outputs": [
    {
     "data": {
      "text/plain": [
       "{44}"
      ]
     },
     "execution_count": 10,
     "metadata": {},
     "output_type": "execute_result"
    }
   ],
   "source": [
    "a.intersection(b)"
   ]
  },
  {
   "cell_type": "code",
   "execution_count": 11,
   "id": "bd17b402",
   "metadata": {},
   "outputs": [
    {
     "data": {
      "text/plain": [
       "False"
      ]
     },
     "execution_count": 11,
     "metadata": {},
     "output_type": "execute_result"
    }
   ],
   "source": [
    "a.isdisjoint(b)"
   ]
  },
  {
   "cell_type": "code",
   "execution_count": 12,
   "id": "e5a1c125",
   "metadata": {},
   "outputs": [],
   "source": [
    "a.remove(56)"
   ]
  },
  {
   "cell_type": "code",
   "execution_count": 13,
   "id": "ef8201f9",
   "metadata": {},
   "outputs": [
    {
     "data": {
      "text/plain": [
       "{44, 78}"
      ]
     },
     "execution_count": 13,
     "metadata": {},
     "output_type": "execute_result"
    }
   ],
   "source": [
    "a"
   ]
  },
  {
   "cell_type": "code",
   "execution_count": 14,
   "id": "eb26916c",
   "metadata": {},
   "outputs": [],
   "source": [
    "a.update([49])"
   ]
  },
  {
   "cell_type": "code",
   "execution_count": 15,
   "id": "f937ba6a",
   "metadata": {},
   "outputs": [
    {
     "data": {
      "text/plain": [
       "{44, 49, 78}"
      ]
     },
     "execution_count": 15,
     "metadata": {},
     "output_type": "execute_result"
    }
   ],
   "source": [
    "a"
   ]
  },
  {
   "cell_type": "code",
   "execution_count": 16,
   "id": "bafdcede",
   "metadata": {},
   "outputs": [],
   "source": [
    "a.clear()"
   ]
  },
  {
   "cell_type": "code",
   "execution_count": 17,
   "id": "b7457d6d",
   "metadata": {},
   "outputs": [
    {
     "data": {
      "text/plain": [
       "set()"
      ]
     },
     "execution_count": 17,
     "metadata": {},
     "output_type": "execute_result"
    }
   ],
   "source": [
    "a"
   ]
  },
  {
   "cell_type": "code",
   "execution_count": 18,
   "id": "8d1e689e",
   "metadata": {},
   "outputs": [
    {
     "data": {
      "text/plain": [
       "1"
      ]
     },
     "execution_count": 18,
     "metadata": {},
     "output_type": "execute_result"
    }
   ],
   "source": [
    "b.pop()"
   ]
  },
  {
   "cell_type": "code",
   "execution_count": 19,
   "id": "9967e647",
   "metadata": {},
   "outputs": [
    {
     "data": {
      "text/plain": [
       "{4, 12, 34, 44}"
      ]
     },
     "execution_count": 19,
     "metadata": {},
     "output_type": "execute_result"
    }
   ],
   "source": [
    "b"
   ]
  },
  {
   "cell_type": "code",
   "execution_count": 20,
   "id": "a799743c",
   "metadata": {},
   "outputs": [],
   "source": [
    "a={33,44,68,98}"
   ]
  },
  {
   "cell_type": "code",
   "execution_count": 21,
   "id": "76ee91f2",
   "metadata": {},
   "outputs": [
    {
     "data": {
      "text/plain": [
       "{4, 12, 34, 44}"
      ]
     },
     "execution_count": 21,
     "metadata": {},
     "output_type": "execute_result"
    }
   ],
   "source": [
    "b"
   ]
  },
  {
   "cell_type": "code",
   "execution_count": 22,
   "id": "e487e29d",
   "metadata": {},
   "outputs": [
    {
     "data": {
      "text/plain": [
       "{4, 12, 33, 34, 44, 68, 98}"
      ]
     },
     "execution_count": 22,
     "metadata": {},
     "output_type": "execute_result"
    }
   ],
   "source": [
    "a|b"
   ]
  },
  {
   "cell_type": "code",
   "execution_count": 23,
   "id": "690bfe1f",
   "metadata": {},
   "outputs": [
    {
     "data": {
      "text/plain": [
       "{44}"
      ]
     },
     "execution_count": 23,
     "metadata": {},
     "output_type": "execute_result"
    }
   ],
   "source": [
    "a&b"
   ]
  },
  {
   "cell_type": "code",
   "execution_count": 24,
   "id": "8af127c9",
   "metadata": {},
   "outputs": [
    {
     "data": {
      "text/plain": [
       "{4, 12, 33, 34, 68, 98}"
      ]
     },
     "execution_count": 24,
     "metadata": {},
     "output_type": "execute_result"
    }
   ],
   "source": [
    "(a-b)|(b-a)"
   ]
  },
  {
   "cell_type": "code",
   "execution_count": 25,
   "id": "debde505",
   "metadata": {},
   "outputs": [
    {
     "data": {
      "text/plain": [
       "{4, 12, 33, 34, 68, 98}"
      ]
     },
     "execution_count": 25,
     "metadata": {},
     "output_type": "execute_result"
    }
   ],
   "source": [
    "a^b"
   ]
  },
  {
   "cell_type": "code",
   "execution_count": 26,
   "id": "cda203c3",
   "metadata": {},
   "outputs": [
    {
     "data": {
      "text/plain": [
       "{4, 12, 33, 34, 68, 98}"
      ]
     },
     "execution_count": 26,
     "metadata": {},
     "output_type": "execute_result"
    }
   ],
   "source": [
    "b^a"
   ]
  },
  {
   "cell_type": "markdown",
   "id": "7d11773d",
   "metadata": {},
   "source": [
    "# For loop"
   ]
  },
  {
   "cell_type": "code",
   "execution_count": 27,
   "id": "50532856",
   "metadata": {},
   "outputs": [
    {
     "name": "stdout",
     "output_type": "stream",
     "text": [
      "1\n",
      "2\n",
      "3\n",
      "4\n",
      "5\n",
      "6\n",
      "7\n",
      "8\n",
      "9\n",
      "10\n",
      "11\n"
     ]
    }
   ],
   "source": [
    "for i in range(1,12):\n",
    "    print(i)"
   ]
  },
  {
   "cell_type": "code",
   "execution_count": 28,
   "id": "3ca34ed6",
   "metadata": {},
   "outputs": [
    {
     "name": "stdout",
     "output_type": "stream",
     "text": [
      "0\n",
      "2\n",
      "4\n",
      "6\n",
      "8\n",
      "10\n"
     ]
    }
   ],
   "source": [
    "for i in range(11):\n",
    "    if i%2==0:\n",
    "        print(i)"
   ]
  },
  {
   "cell_type": "markdown",
   "id": "20b83127",
   "metadata": {},
   "source": [
    "## While loop"
   ]
  },
  {
   "cell_type": "code",
   "execution_count": 29,
   "id": "ffd1339a",
   "metadata": {},
   "outputs": [
    {
     "name": "stdout",
     "output_type": "stream",
     "text": [
      "0\n",
      "1\n",
      "2\n",
      "3\n",
      "4\n",
      "5\n",
      "6\n",
      "7\n",
      "8\n",
      "9\n",
      "10\n"
     ]
    }
   ],
   "source": [
    "a=0\n",
    "while a<=10:\n",
    "    print(a)\n",
    "    a+=1"
   ]
  },
  {
   "cell_type": "code",
   "execution_count": 30,
   "id": "da916019",
   "metadata": {},
   "outputs": [
    {
     "name": "stdout",
     "output_type": "stream",
     "text": [
      "0\n",
      "1\n",
      "2\n",
      "3\n",
      "4\n"
     ]
    }
   ],
   "source": [
    "a=0\n",
    "while a<=10:\n",
    "    if a==5:\n",
    "        break\n",
    "    else:\n",
    "        print(a)\n",
    "    a+=1"
   ]
  },
  {
   "cell_type": "code",
   "execution_count": 32,
   "id": "6d4ec8e3",
   "metadata": {},
   "outputs": [],
   "source": [
    "a=[2,3,4,5,6]"
   ]
  },
  {
   "cell_type": "code",
   "execution_count": 33,
   "id": "03309c66",
   "metadata": {},
   "outputs": [
    {
     "data": {
      "text/plain": [
       "True"
      ]
     },
     "execution_count": 33,
     "metadata": {},
     "output_type": "execute_result"
    }
   ],
   "source": [
    "4 in a"
   ]
  },
  {
   "cell_type": "markdown",
   "id": "e51cc31d",
   "metadata": {},
   "source": [
    "## Function"
   ]
  },
  {
   "cell_type": "code",
   "execution_count": 34,
   "id": "f309a237",
   "metadata": {},
   "outputs": [],
   "source": [
    "def even_(a):\n",
    "    if a%2==0:\n",
    "        print(a,\"is Even\")\n",
    "    else:\n",
    "        print(a,\"is not even\")"
   ]
  },
  {
   "cell_type": "code",
   "execution_count": 35,
   "id": "79598828",
   "metadata": {},
   "outputs": [
    {
     "name": "stdout",
     "output_type": "stream",
     "text": [
      "3 is not even\n"
     ]
    }
   ],
   "source": [
    "even_(3)"
   ]
  },
  {
   "cell_type": "code",
   "execution_count": 36,
   "id": "731ecab2",
   "metadata": {},
   "outputs": [
    {
     "name": "stdout",
     "output_type": "stream",
     "text": [
      "44 is Even\n"
     ]
    }
   ],
   "source": [
    "even_(44)"
   ]
  },
  {
   "cell_type": "code",
   "execution_count": 39,
   "id": "acbd7acb",
   "metadata": {},
   "outputs": [],
   "source": [
    "def sum_(a,b):\n",
    "    print(\"sum of\",a,\"and\",b,\"is\",a+b)"
   ]
  },
  {
   "cell_type": "code",
   "execution_count": 40,
   "id": "38b8a101",
   "metadata": {},
   "outputs": [
    {
     "name": "stdout",
     "output_type": "stream",
     "text": [
      "sum of 2 and 3 is 5\n"
     ]
    }
   ],
   "source": [
    "sum_(2,3)"
   ]
  },
  {
   "cell_type": "code",
   "execution_count": 43,
   "id": "3f549c35",
   "metadata": {},
   "outputs": [],
   "source": [
    "def ave(a,b,c):\n",
    "    v=(a+b+c)/3\n",
    "    return v"
   ]
  },
  {
   "cell_type": "code",
   "execution_count": 44,
   "id": "e6cf3c4a",
   "metadata": {},
   "outputs": [
    {
     "data": {
      "text/plain": [
       "3.0"
      ]
     },
     "execution_count": 44,
     "metadata": {},
     "output_type": "execute_result"
    }
   ],
   "source": [
    "ave(2,3,4)"
   ]
  },
  {
   "cell_type": "markdown",
   "id": "5090566b",
   "metadata": {},
   "source": [
    "### try and except"
   ]
  },
  {
   "cell_type": "code",
   "execution_count": 55,
   "id": "49814a50",
   "metadata": {},
   "outputs": [
    {
     "name": "stdout",
     "output_type": "stream",
     "text": [
      "6\n",
      "vorrrrra\n",
      "hello\n"
     ]
    }
   ],
   "source": [
    "a=input()\n",
    "b=input()\n",
    "try:\n",
    "    print(int(a)+int(b))\n",
    "except:\n",
    "    print(\"hello\")"
   ]
  },
  {
   "cell_type": "markdown",
   "id": "b1077aa9",
   "metadata": {},
   "source": [
    "## Global and local Variables"
   ]
  },
  {
   "cell_type": "code",
   "execution_count": 56,
   "id": "03f2eede",
   "metadata": {},
   "outputs": [],
   "source": [
    "a=20\n",
    "def f(n):\n",
    "    print(a)\n",
    "    print(n)"
   ]
  },
  {
   "cell_type": "code",
   "execution_count": 57,
   "id": "358afdec",
   "metadata": {},
   "outputs": [
    {
     "name": "stdout",
     "output_type": "stream",
     "text": [
      "20\n",
      "2\n"
     ]
    }
   ],
   "source": [
    "f(2)"
   ]
  },
  {
   "cell_type": "code",
   "execution_count": 58,
   "id": "ae55ec02",
   "metadata": {},
   "outputs": [],
   "source": [
    "a=22\n",
    "def f1(n):\n",
    "    a=21\n",
    "    b=90\n",
    "    print(a,b)\n",
    "    print(n)"
   ]
  },
  {
   "cell_type": "code",
   "execution_count": 59,
   "id": "8cb01acf",
   "metadata": {},
   "outputs": [
    {
     "name": "stdout",
     "output_type": "stream",
     "text": [
      "21 90\n",
      "34\n"
     ]
    }
   ],
   "source": [
    "f1(34)"
   ]
  },
  {
   "cell_type": "code",
   "execution_count": 60,
   "id": "920501c4",
   "metadata": {},
   "outputs": [],
   "source": [
    "g=20\n",
    "def f2(n):\n",
    "    m=8\n",
    "    global g\n",
    "    g+=45\n",
    "    print(g,m)\n",
    "    print(n)"
   ]
  },
  {
   "cell_type": "code",
   "execution_count": 61,
   "id": "00e42aa4",
   "metadata": {},
   "outputs": [
    {
     "name": "stdout",
     "output_type": "stream",
     "text": [
      "65 8\n",
      "67\n"
     ]
    }
   ],
   "source": [
    "f2(67)"
   ]
  },
  {
   "cell_type": "code",
   "execution_count": null,
   "id": "85b74538",
   "metadata": {},
   "outputs": [],
   "source": []
  }
 ],
 "metadata": {
  "kernelspec": {
   "display_name": "Python 3 (ipykernel)",
   "language": "python",
   "name": "python3"
  },
  "language_info": {
   "codemirror_mode": {
    "name": "ipython",
    "version": 3
   },
   "file_extension": ".py",
   "mimetype": "text/x-python",
   "name": "python",
   "nbconvert_exporter": "python",
   "pygments_lexer": "ipython3",
   "version": "3.9.13"
  }
 },
 "nbformat": 4,
 "nbformat_minor": 5
}
